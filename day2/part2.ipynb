{
 "cells": [
  {
   "cell_type": "code",
   "execution_count": 38,
   "metadata": {},
   "outputs": [],
   "source": [
    "import numpy as np\n",
    "def process_input(input_file):\n",
    "    # return [line.split() for line in input.splitlines()]\n",
    "    with open(input_file) as f:\n",
    "        reports = f.readlines()\n",
    "    # print(reports)\n",
    "    # x = \"a b c\"\n",
    "    # reports = x.split()\n",
    "    reports = [list(map(int, report.split()))  for report in reports ]\n",
    "\n",
    "    return reports\n",
    "\n",
    "\n",
    "def safe(report):\n",
    "    if (\n",
    "        not (report == np.sort(report)).all() and\n",
    "        not (report == np.sort(report)[::-1]).all()\n",
    "    ):\n",
    "        return False # can't be fixed\n",
    "    \n",
    "    for i in range(len(report)-1):\n",
    "        if (np.abs(report[i] - report[i+1]) < 1 or \n",
    "            np.abs(report[i] - report[i+1]) >3):\n",
    "            return False\n",
    "    \n",
    "    return True\n",
    "\n",
    "def fix(report):\n",
    "\n",
    "    for i in range(len(report)):\n",
    "        temp = report.copy()\n",
    "        temp.pop(i)\n",
    "        if  safe(temp):\n",
    "            return True   \n",
    "    return False\n"
   ]
  },
  {
   "cell_type": "code",
   "execution_count": 39,
   "metadata": {},
   "outputs": [],
   "source": [
    "reports = process_input(\"input-real.txt\")"
   ]
  },
  {
   "cell_type": "code",
   "execution_count": 40,
   "metadata": {},
   "outputs": [],
   "source": [
    "safe_report = []\n",
    "unsafe_report = []\n",
    "for report in reports:\n",
    "    if safe(report):\n",
    "        safe_report.append(report)\n",
    "    else:\n",
    "        unsafe_report.append(report)"
   ]
  },
  {
   "cell_type": "code",
   "execution_count": 41,
   "metadata": {},
   "outputs": [
    {
     "data": {
      "text/plain": [
       "514"
      ]
     },
     "execution_count": 41,
     "metadata": {},
     "output_type": "execute_result"
    }
   ],
   "source": [
    "sum([fix(report) for report in unsafe_report]) + len(safe_report)"
   ]
  }
 ],
 "metadata": {
  "kernelspec": {
   "display_name": "base",
   "language": "python",
   "name": "python3"
  },
  "language_info": {
   "codemirror_mode": {
    "name": "ipython",
    "version": 3
   },
   "file_extension": ".py",
   "mimetype": "text/x-python",
   "name": "python",
   "nbconvert_exporter": "python",
   "pygments_lexer": "ipython3",
   "version": "3.12.2"
  }
 },
 "nbformat": 4,
 "nbformat_minor": 2
}
