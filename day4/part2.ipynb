{
 "cells": [
  {
   "cell_type": "code",
   "execution_count": 128,
   "metadata": {},
   "outputs": [],
   "source": [
    "import numpy as np"
   ]
  },
  {
   "cell_type": "code",
   "execution_count": 129,
   "metadata": {},
   "outputs": [],
   "source": [
    "with open(\"input-real.txt\", \"r\") as file:\n",
    "    data =  [[y for y in x] for x in file.read().split('\\n')]"
   ]
  },
  {
   "cell_type": "code",
   "execution_count": null,
   "metadata": {},
   "outputs": [],
   "source": [
    "npdata = np.array(data)"
   ]
  },
  {
   "cell_type": "code",
   "execution_count": 131,
   "metadata": {},
   "outputs": [
    {
     "data": {
      "text/plain": [
       "(140, 140)"
      ]
     },
     "execution_count": 131,
     "metadata": {},
     "output_type": "execute_result"
    }
   ],
   "source": [
    "npdata.shape"
   ]
  },
  {
   "cell_type": "code",
   "execution_count": 132,
   "metadata": {},
   "outputs": [],
   "source": [
    "x_limits, y_limits= (1, npdata.shape[0]-1), (1, npdata.shape[1]-1) "
   ]
  },
  {
   "cell_type": "code",
   "execution_count": 133,
   "metadata": {},
   "outputs": [
    {
     "data": {
      "text/plain": [
       "(1, 139)"
      ]
     },
     "execution_count": 133,
     "metadata": {},
     "output_type": "execute_result"
    }
   ],
   "source": [
    "x_limits"
   ]
  },
  {
   "cell_type": "code",
   "execution_count": 134,
   "metadata": {},
   "outputs": [
    {
     "name": "stdout",
     "output_type": "stream",
     "text": [
      "2041\n"
     ]
    }
   ],
   "source": [
    "pos_list = [\"MAS\", \"SAM\"]\n",
    "cnt = 0\n",
    "for x in range(npdata.shape[0]):\n",
    "    for y in range(npdata.shape[1]):\n",
    "        if npdata[x, y] == \"A\":\n",
    "            if npdata[x-1:x+2, y-1:y+2].size != 9:\n",
    "                continue\n",
    "            sub_array = npdata[x-1:x+2, y-1:y+2]\n",
    "            # print(sub_array)\n",
    "            diag1 = \"\".join(sub_array.diagonal())\n",
    "            diag2 = \"\".join(np.fliplr(sub_array).diagonal())\n",
    "            # print(diag1, diag2)\n",
    "            if (diag1 in pos_list) and (diag2 in pos_list):\n",
    "                cnt+=1\n",
    "                # print(npdata[x-1:x+2, y-1:y+2])\n",
    "\n",
    "print(cnt)"
   ]
  },
  {
   "cell_type": "code",
   "execution_count": null,
   "metadata": {},
   "outputs": [],
   "source": [
    "i,j = 0,1"
   ]
  },
  {
   "cell_type": "code",
   "execution_count": null,
   "metadata": {},
   "outputs": [],
   "source": [
    "sub_group = npdata[i-1:i+2, j-1:j+2]\n",
    "sub_group.size != 0"
   ]
  },
  {
   "cell_type": "code",
   "execution_count": null,
   "metadata": {},
   "outputs": [],
   "source": [
    "sub_group.diagonal()"
   ]
  },
  {
   "cell_type": "code",
   "execution_count": null,
   "metadata": {},
   "outputs": [],
   "source": [
    "fliped_sub_group = np.fliplr(sub_group)\n",
    "fliped_sub_group"
   ]
  },
  {
   "cell_type": "code",
   "execution_count": null,
   "metadata": {},
   "outputs": [],
   "source": [
    "\"\".join(fliped_sub_group.diagonal())"
   ]
  },
  {
   "cell_type": "code",
   "execution_count": null,
   "metadata": {},
   "outputs": [],
   "source": [
    "import numpy as np\n",
    "\n",
    "# Example 2D array\n",
    "array = np.array([[1, 2, 3],\n",
    "                  [4, 5, 6],\n",
    "                  [7, 8, 9]])\n",
    "\n",
    "# Flip the array along its vertical axis\n",
    "flipped_array = np.fliplr(array)\n",
    "\n",
    "flipped_array"
   ]
  },
  {
   "cell_type": "code",
   "execution_count": null,
   "metadata": {},
   "outputs": [],
   "source": [
    "\n",
    "# Get the diagonal from the top-right corner\n",
    "top_right_diagonal = np.diagonal(flipped_array)\n",
    "\n",
    "print(\"Top-right diagonal:\", top_right_diagonal)\n"
   ]
  }
 ],
 "metadata": {
  "kernelspec": {
   "display_name": "base",
   "language": "python",
   "name": "python3"
  },
  "language_info": {
   "codemirror_mode": {
    "name": "ipython",
    "version": 3
   },
   "file_extension": ".py",
   "mimetype": "text/x-python",
   "name": "python",
   "nbconvert_exporter": "python",
   "pygments_lexer": "ipython3",
   "version": "3.12.2"
  }
 },
 "nbformat": 4,
 "nbformat_minor": 2
}
