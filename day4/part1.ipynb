{
 "cells": [
  {
   "cell_type": "code",
   "execution_count": null,
   "metadata": {},
   "outputs": [],
   "source": [
    "# have M as the center, and then check all 8 directions for the other letters\n",
    "\n",
    "with open ('input-sample.txt') as f:\n",
    "    lets = [[y for y in x] for x in f.read().split('\\n')]\n",
    "    "
   ]
  },
  {
   "cell_type": "code",
   "execution_count": 94,
   "metadata": {},
   "outputs": [
    {
     "data": {
      "text/plain": [
       "[['M', 'M', 'M', 'S', 'X', 'X', 'M', 'A', 'S', 'M'],\n",
       " ['M', 'S', 'A', 'M', 'X', 'M', 'S', 'M', 'S', 'A'],\n",
       " ['A', 'M', 'X', 'S', 'X', 'M', 'A', 'A', 'M', 'M'],\n",
       " ['M', 'S', 'A', 'M', 'A', 'S', 'M', 'S', 'M', 'X'],\n",
       " ['X', 'M', 'A', 'S', 'A', 'M', 'X', 'A', 'M', 'M'],\n",
       " ['X', 'X', 'A', 'M', 'M', 'X', 'X', 'A', 'M', 'A'],\n",
       " ['S', 'M', 'S', 'M', 'S', 'A', 'S', 'X', 'S', 'S'],\n",
       " ['S', 'A', 'X', 'A', 'M', 'A', 'S', 'A', 'A', 'A'],\n",
       " ['M', 'A', 'M', 'M', 'M', 'X', 'M', 'M', 'M', 'M'],\n",
       " ['M', 'X', 'M', 'X', 'A', 'X', 'M', 'A', 'S', 'X']]"
      ]
     },
     "execution_count": 94,
     "metadata": {},
     "output_type": "execute_result"
    }
   ],
   "source": [
    "lets"
   ]
  },
  {
   "cell_type": "code",
   "execution_count": null,
   "metadata": {},
   "outputs": [],
   "source": [
    "# XMAS "
   ]
  },
  {
   "cell_type": "code",
   "execution_count": null,
   "metadata": {},
   "outputs": [
    {
     "data": {
      "text/plain": [
       "['MMAMXXSSMM',\n",
       " 'MSMSMXMAAX',\n",
       " 'MAXAAASXMM',\n",
       " 'SMSMSMMAMX',\n",
       " 'XXXAAMSMMA',\n",
       " 'XMMSMXAAXX',\n",
       " 'MSAMXXSSMM',\n",
       " 'AMASAAXAMA',\n",
       " 'SSMMMMSAMS',\n",
       " 'MAMXMASAMX']"
      ]
     },
     "execution_count": 98,
     "metadata": {},
     "output_type": "execute_result"
    }
   ],
   "source": [
    "horizontal = [\"\".join(x) for x in lets]\n",
    "\n",
    "vertical = [\"\".join(x) for x in zip(*lets)]\n",
    "\n"
   ]
  },
  {
   "cell_type": "code",
   "execution_count": 121,
   "metadata": {},
   "outputs": [],
   "source": [
    "lets = [['M', 'M', 'M', 'S', 'X', 'X', 'M', 'A', 'S', 'M'],\n",
    "        ['M', 'S', 'A', 'M', 'X', 'M', 'S', 'M', 'S', 'A'],\n",
    "        ['A', 'M', 'X', 'S', 'X', 'M', 'A', 'A', 'M', 'M'],\n",
    "        ['M', 'S', 'A', 'M', 'A', 'S', 'M', 'S', 'M', 'X'],\n",
    "        ['X', 'M', 'A', 'S', 'A', 'M', 'X', 'A', 'M', 'M'],\n",
    "        ['X', 'X', 'A', 'M', 'M', 'X', 'X', 'A', 'M', 'A'],\n",
    "        ['S', 'M', 'S', 'M', 'S', 'A', 'S', 'X', 'S', 'S'],\n",
    "        ['S', 'A', 'X', 'A', 'M', 'A', 'S', 'A', 'A', 'A'],\n",
    "        ['M', 'A', 'M', 'M', 'M', 'X', 'M', 'M', 'M', 'M'],\n",
    "        ['M', 'X', 'M', 'X', 'A', 'X', 'M', 'A', 'S', 'X']]\n",
    "\n",
    "def get_diagonals(matrix):\n",
    "    n = len(matrix)\n",
    "    diagonals = []\n",
    "\n",
    "    # Top-left to bottom-right diagonals\n",
    "    for d in range(2 * n - 1):\n",
    "        diagonal = []\n",
    "        for i in range(max(0, d - n + 1), min(d + 1, n)):\n",
    "            diagonal.append(matrix[i][d - i])\n",
    "        diagonals.append(''.join(diagonal))\n",
    "\n",
    "    # Top-right to bottom-left diagonals\n",
    "    for d in range(2 * n - 1):\n",
    "        diagonal = []\n",
    "        for i in range(max(0, d - n + 1), min(d + 1, n)):\n",
    "            diagonal.append(matrix[i][n - 1 - (d - i)])\n",
    "        diagonals.append(''.join(diagonal))\n",
    "\n",
    "    return diagonals\n",
    "# Get diagonal strings\n",
    "diagonal_strings = get_diagonals(lets)\n",
    "\n",
    "# Print diagonal strings\n"
   ]
  },
  {
   "cell_type": "code",
   "execution_count": 131,
   "metadata": {},
   "outputs": [
    {
     "data": {
      "text/plain": [
       "['M',\n",
       " 'MM',\n",
       " 'MSA',\n",
       " 'SAMM',\n",
       " 'XMXSX',\n",
       " 'XXSAMX',\n",
       " 'MMXMAXS',\n",
       " 'ASMASAMS',\n",
       " 'SMASAMSAM',\n",
       " 'MSAMMMMXAM',\n",
       " 'AMSXXSAMX',\n",
       " 'MMAXAMMM',\n",
       " 'XMASAMX',\n",
       " 'MMXSXA',\n",
       " 'ASAMX',\n",
       " 'SAMM',\n",
       " 'AMA',\n",
       " 'MS',\n",
       " 'X',\n",
       " 'M',\n",
       " 'SA',\n",
       " 'ASM',\n",
       " 'MMMX',\n",
       " 'XSAMM',\n",
       " 'XMASMA',\n",
       " 'SXMMAMS',\n",
       " 'MMXSXASA',\n",
       " 'MASAMXXAM',\n",
       " 'MSXMAXSAMX',\n",
       " 'MMASMASMS',\n",
       " 'ASAMSAMA',\n",
       " 'MMAMMXM',\n",
       " 'XXSAMX',\n",
       " 'XMXMA',\n",
       " 'SAMX',\n",
       " 'SAM',\n",
       " 'MX',\n",
       " 'M']"
      ]
     },
     "execution_count": 131,
     "metadata": {},
     "output_type": "execute_result"
    }
   ],
   "source": [
    "diagonal_strings"
   ]
  },
  {
   "cell_type": "code",
   "execution_count": 134,
   "metadata": {},
   "outputs": [],
   "source": [
    "every = horizontal + vertical + diagonal_strings"
   ]
  },
  {
   "cell_type": "code",
   "execution_count": 132,
   "metadata": {},
   "outputs": [
    {
     "data": {
      "text/plain": [
       "38"
      ]
     },
     "execution_count": 132,
     "metadata": {},
     "output_type": "execute_result"
    }
   ],
   "source": [
    "len(diagonal_strings)"
   ]
  },
  {
   "cell_type": "code",
   "execution_count": 135,
   "metadata": {},
   "outputs": [
    {
     "data": {
      "text/plain": [
       "58"
      ]
     },
     "execution_count": 135,
     "metadata": {},
     "output_type": "execute_result"
    }
   ],
   "source": [
    "len(every)"
   ]
  },
  {
   "cell_type": "code",
   "execution_count": 155,
   "metadata": {},
   "outputs": [
    {
     "data": {
      "text/plain": [
       "18"
      ]
     },
     "execution_count": 155,
     "metadata": {},
     "output_type": "execute_result"
    }
   ],
   "source": [
    "import re\n",
    "pattern  = r\"(?=(XMAS|SAMX))\"\n",
    "cnt = 0\n",
    "for x in every:\n",
    "    match = re.findall(pattern, x)\n",
    "    # if match:\n",
    "    cnt += int(len(match))\n",
    "        # print(match)\n",
    "cnt"
   ]
  }
 ],
 "metadata": {
  "kernelspec": {
   "display_name": "base",
   "language": "python",
   "name": "python3"
  },
  "language_info": {
   "codemirror_mode": {
    "name": "ipython",
    "version": 3
   },
   "file_extension": ".py",
   "mimetype": "text/x-python",
   "name": "python",
   "nbconvert_exporter": "python",
   "pygments_lexer": "ipython3",
   "version": "3.12.2"
  }
 },
 "nbformat": 4,
 "nbformat_minor": 2
}
