{
 "cells": [
  {
   "cell_type": "code",
   "execution_count": 1,
   "metadata": {},
   "outputs": [],
   "source": [
    "import numpy as np\n",
    "import re "
   ]
  },
  {
   "cell_type": "code",
   "execution_count": 2,
   "metadata": {},
   "outputs": [],
   "source": [
    "with open (\"sample.txt\", \"r\") as file:\n",
    "    file_contents = file.read()"
   ]
  },
  {
   "cell_type": "code",
   "execution_count": 3,
   "metadata": {},
   "outputs": [],
   "source": [
    "\n",
    "rule_pattern = r\"\\d{1,3}\\|\\d{1,3}\"\n",
    "rules = re.findall(rule_pattern, file_contents)"
   ]
  },
  {
   "cell_type": "code",
   "execution_count": 4,
   "metadata": {},
   "outputs": [],
   "source": [
    "no_rules = re.sub(rule_pattern, \"\", file_contents)"
   ]
  },
  {
   "cell_type": "code",
   "execution_count": 5,
   "metadata": {},
   "outputs": [],
   "source": [
    "no_rules = no_rules.lstrip().split(\"\\n\")"
   ]
  },
  {
   "cell_type": "code",
   "execution_count": 6,
   "metadata": {},
   "outputs": [],
   "source": [
    "no_rules_int = [list(map(int, rule.split(','))) for rule in no_rules]\n"
   ]
  },
  {
   "cell_type": "code",
   "execution_count": 7,
   "metadata": {},
   "outputs": [],
   "source": [
    "ruleset = {}\n",
    "for rule in rules:\n",
    "    before, after = (rule.split(\"|\"))\n",
    "    before, after = int(before), int(after)\n",
    "    if before not in ruleset:\n",
    "        ruleset[int(before)] = []\n",
    "    ruleset[int(before)].append(int(after))"
   ]
  },
  {
   "cell_type": "code",
   "execution_count": 8,
   "metadata": {},
   "outputs": [],
   "source": [
    "def get_good_bad_lines(lines):\n",
    "\n",
    "    good_lines = [] \n",
    "    bad_lines = []\n",
    "    for line in no_rules_int:\n",
    "        line_good = True\n",
    "        \n",
    "        for i in range(len(line)):\n",
    "\n",
    "            if line[i] in ruleset.keys():\n",
    "                # \n",
    "                numbers_before = line[:i]\n",
    "                if np.isin(np.array(numbers_before), np.array(ruleset[line[i]])).any():\n",
    "                    # \n",
    "                    line_good = False\n",
    "                    break\n",
    "        if line_good:\n",
    "            good_lines.append(line)\n",
    "        else:\n",
    "            bad_lines.append(line)\n",
    "\n",
    "    \n",
    "    return good_lines, bad_lines\n",
    "\n",
    "def fix_line(line):\n",
    "    i = 0\n",
    "    while i < len(line):\n",
    "        if line[i] in ruleset.keys():\n",
    "            numbers_before = line[:i]\n",
    "            if np.isin(np.array(numbers_before), np.array(ruleset[line[i]])).any():\n",
    "                # \n",
    "                fault = np.isin(np.array(numbers_before), np.array(ruleset[line[i]]))\n",
    "                fault_index = np.where(fault == True)[0][0]\n",
    "                # print(fault)\n",
    "                # print(fault_index)\n",
    "                # print(f\"Before {line}\")\n",
    "                line[fault_index], line[i] = line[i], line[fault_index]\n",
    "                # print(f\"After {line}\")\n",
    "                i = 0\n",
    "                continue\n",
    "        i += 1\n",
    "\n",
    "    return line"
   ]
  },
  {
   "cell_type": "code",
   "execution_count": 9,
   "metadata": {},
   "outputs": [],
   "source": [
    "# first sort\n",
    "good_lines, bad_lines = get_good_bad_lines(no_rules_int)"
   ]
  },
  {
   "cell_type": "code",
   "execution_count": 10,
   "metadata": {},
   "outputs": [
    {
     "name": "stdout",
     "output_type": "stream",
     "text": [
      "Before fixing: [75, 97, 47, 61, 53]\n",
      "After  fixing: [97, 75, 47, 61, 53]\n",
      "Before fixing: [61, 13, 29]\n",
      "After  fixing: [61, 29, 13]\n",
      "Before fixing: [97, 13, 75, 29, 47]\n",
      "After  fixing: [97, 75, 47, 29, 13]\n"
     ]
    }
   ],
   "source": [
    "fixed_sum = 0\n",
    "fixed = []\n",
    "# while len(bad_lines) > 0:\n",
    "\n",
    "for line in bad_lines:\n",
    "    print(f\"Before fixing: {line}\")    \n",
    "    print(f\"After  fixing: {fix_line(line)}\")\n",
    "    fixed.append(fix_line(line))\n",
    "    # print(line)\n",
    "# print(bad_lines)\n",
    "# good_lines.clear()\n",
    "# new_good_lines, bad_lines = get_good_bad_lines(bad_lines)\n",
    "\n",
    "# fixed_sum += sum(middle_good)\n",
    "\n"
   ]
  },
  {
   "cell_type": "code",
   "execution_count": 11,
   "metadata": {},
   "outputs": [
    {
     "data": {
      "text/plain": [
       "[[97, 75, 47, 61, 53], [61, 29, 13], [97, 75, 47, 29, 13]]"
      ]
     },
     "execution_count": 11,
     "metadata": {},
     "output_type": "execute_result"
    }
   ],
   "source": [
    "fixed"
   ]
  },
  {
   "cell_type": "code",
   "execution_count": 14,
   "metadata": {},
   "outputs": [
    {
     "data": {
      "text/plain": [
       "123"
      ]
     },
     "execution_count": 14,
     "metadata": {},
     "output_type": "execute_result"
    }
   ],
   "source": [
    "middle_fixed = [i[len(i)//2] for i in fixed]\n",
    "middle_fixed\n",
    "sum(middle_fixed)"
   ]
  },
  {
   "cell_type": "code",
   "execution_count": null,
   "metadata": {},
   "outputs": [],
   "source": [
    "middle_good = [i[len(i)//2] for i in good_lines]\n",
    "middle_good"
   ]
  },
  {
   "cell_type": "code",
   "execution_count": null,
   "metadata": {},
   "outputs": [],
   "source": [
    "sum(middle_good)"
   ]
  },
  {
   "cell_type": "code",
   "execution_count": null,
   "metadata": {},
   "outputs": [],
   "source": []
  },
  {
   "cell_type": "code",
   "execution_count": null,
   "metadata": {},
   "outputs": [],
   "source": [
    "bad_lines"
   ]
  },
  {
   "cell_type": "code",
   "execution_count": null,
   "metadata": {},
   "outputs": [],
   "source": [
    "for line in bad_lines:\n",
    "        fix_line(line)\n",
    "        # print(line)\n",
    "# print(bad_lines)\n",
    "good_lines, bad_lines = get_good_bad_lines(bad_lines)"
   ]
  },
  {
   "cell_type": "code",
   "execution_count": null,
   "metadata": {},
   "outputs": [],
   "source": [
    "bad_lines"
   ]
  },
  {
   "cell_type": "code",
   "execution_count": null,
   "metadata": {},
   "outputs": [],
   "source": [
    "good_lines"
   ]
  },
  {
   "cell_type": "code",
   "execution_count": null,
   "metadata": {},
   "outputs": [],
   "source": [
    "middle_good = [i[len(i)//2] for i in good_lines]\n",
    "middle_good\n",
    "sum(middle_good)"
   ]
  }
 ],
 "metadata": {
  "kernelspec": {
   "display_name": "creativity",
   "language": "python",
   "name": "python3"
  },
  "language_info": {
   "codemirror_mode": {
    "name": "ipython",
    "version": 3
   },
   "file_extension": ".py",
   "mimetype": "text/x-python",
   "name": "python",
   "nbconvert_exporter": "python",
   "pygments_lexer": "ipython3",
   "version": "3.11.9"
  }
 },
 "nbformat": 4,
 "nbformat_minor": 2
}
