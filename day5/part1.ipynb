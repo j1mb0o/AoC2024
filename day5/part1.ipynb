{
 "cells": [
  {
   "cell_type": "code",
   "execution_count": 53,
   "metadata": {},
   "outputs": [],
   "source": [
    "with open (\"input.txt\", \"r\") as file:\n",
    "    file_contents = file.read()"
   ]
  },
  {
   "cell_type": "code",
   "execution_count": 54,
   "metadata": {},
   "outputs": [],
   "source": [
    "import numpy as np\n"
   ]
  },
  {
   "cell_type": "code",
   "execution_count": 55,
   "metadata": {},
   "outputs": [],
   "source": [
    "import re \n",
    "rule_pattern = r\"\\d{1,3}\\|\\d{1,3}\"\n",
    "rules = re.findall(rule_pattern, file_contents)"
   ]
  },
  {
   "cell_type": "code",
   "execution_count": 56,
   "metadata": {},
   "outputs": [],
   "source": [
    "no_rules = re.sub(rule_pattern, \"\", file_contents)"
   ]
  },
  {
   "cell_type": "code",
   "execution_count": 57,
   "metadata": {},
   "outputs": [],
   "source": [
    "no_rules = no_rules.lstrip().split(\"\\n\")"
   ]
  },
  {
   "cell_type": "code",
   "execution_count": 58,
   "metadata": {},
   "outputs": [],
   "source": [
    "no_rules_int = [list(map(int, rule.split(','))) for rule in no_rules]\n"
   ]
  },
  {
   "cell_type": "code",
   "execution_count": 59,
   "metadata": {},
   "outputs": [],
   "source": [
    "ruleset = {}\n",
    "for rule in rules:\n",
    "    before, after = (rule.split(\"|\"))\n",
    "    before, after = int(before), int(after)\n",
    "    if before not in ruleset:\n",
    "        ruleset[int(before)] = []\n",
    "    ruleset[int(before)].append(int(after))"
   ]
  },
  {
   "cell_type": "code",
   "execution_count": 60,
   "metadata": {},
   "outputs": [],
   "source": [
    "good_lines = [] \n",
    "for line in no_rules_int:\n",
    "    line_good = True\n",
    "    \n",
    "    for i in range(len(line)):\n",
    "\n",
    "        if line[i] in ruleset.keys():\n",
    "            # \n",
    "            numbers_before = line[:i]\n",
    "            if np.isin(np.array(numbers_before), np.array(ruleset[line[i]])).any():\n",
    "                # \n",
    "                line_good = False\n",
    "                break\n",
    "    if line_good:\n",
    "        good_lines.append(line)\n",
    "\n",
    "    \n"
   ]
  },
  {
   "cell_type": "code",
   "execution_count": 61,
   "metadata": {},
   "outputs": [
    {
     "data": {
      "text/plain": [
       "7365"
      ]
     },
     "execution_count": 61,
     "metadata": {},
     "output_type": "execute_result"
    }
   ],
   "source": [
    "res = np.sum([line[len(line)//2] for line in good_lines])\n",
    "res"
   ]
  }
 ],
 "metadata": {
  "kernelspec": {
   "display_name": "creativity",
   "language": "python",
   "name": "python3"
  },
  "language_info": {
   "codemirror_mode": {
    "name": "ipython",
    "version": 3
   },
   "file_extension": ".py",
   "mimetype": "text/x-python",
   "name": "python",
   "nbconvert_exporter": "python",
   "pygments_lexer": "ipython3",
   "version": "3.11.9"
  }
 },
 "nbformat": 4,
 "nbformat_minor": 2
}
